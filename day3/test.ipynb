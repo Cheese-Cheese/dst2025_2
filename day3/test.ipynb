{
 "cells": [
  {
   "cell_type": "code",
   "execution_count": 1,
   "id": "9dd124c0",
   "metadata": {},
   "outputs": [
    {
     "name": "stdout",
     "output_type": "stream",
     "text": [
      "(0.5, 0.3333333333333333, 0.6666666666666666)\n"
     ]
    }
   ],
   "source": [
    "def dice_probaability():\n",
    "    total = 6\n",
    "    even = {2, 4, 6}\n",
    "    greater_than_4 = {5, 6}\n",
    "    intersecton = even & greater_than_4\n",
    "\n",
    "    p_even = len(even)/total\n",
    "    p_greater_than_4 = len(greater_than_4)/total\n",
    "    p_union = p_even + p_greater_than_4 - len(intersecton)/total\n",
    "\n",
    "    return p_even, p_greater_than_4, p_union\n",
    "\n",
    "print(dice_probaability())"
   ]
  },
  {
   "cell_type": "code",
   "execution_count": 2,
   "id": "459ec5ed",
   "metadata": {},
   "outputs": [
    {
     "name": "stdout",
     "output_type": "stream",
     "text": [
      "0.5625\n"
     ]
    }
   ],
   "source": [
    "def spam_classifier():\n",
    "    p_scam = 0.3\n",
    "    p_free_given_scam = 0.6\n",
    "    p_free_given_not_scam = 0.2\n",
    "    \n",
    "    p_not_scam = 1 - p_scam\n",
    "    p_free = (p_free_given_scam * p_scam) + (p_free_given_not_scam * p_not_scam)\n",
    "    p_scam_given_free = (p_free_given_scam * p_scam) / p_free\n",
    "\n",
    "    return round(p_scam_given_free, 4)\n",
    "\n",
    "print(spam_classifier())"
   ]
  },
  {
   "cell_type": "code",
   "execution_count": 4,
   "id": "730e8a03",
   "metadata": {},
   "outputs": [
    {
     "name": "stdout",
     "output_type": "stream",
     "text": [
      "(np.float64(0.5), np.float64(0.0))\n"
     ]
    }
   ],
   "source": [
    "def coin_flip_experiment():\n",
    "    import numpy as np\n",
    "    np.random.seed(42)\n",
    "    flips = np.random.binomial(1, 0.5, 1000)\n",
    "    mean_heads = np.mean(flips)\n",
    "    exactly_500 = np.sum(np.sum(flips) == 500) / 1000\n",
    "\n",
    "    return round(mean_heads, 2), round(exactly_500, 4)\n",
    "\n",
    "print(coin_flip_experiment())"
   ]
  },
  {
   "cell_type": "code",
   "execution_count": 8,
   "id": "060892ee",
   "metadata": {},
   "outputs": [
    {
     "name": "stdout",
     "output_type": "stream",
     "text": [
      "(np.float64(0.0478), np.float64(0.495), np.float64(73.84))\n"
     ]
    }
   ],
   "source": [
    "def height_analysis():\n",
    "    from scipy.stats import norm\n",
    "    mu, sigma = 70, 3\n",
    "    p_short = norm.cdf(65, mu, sigma)\n",
    "    p_medium = norm.cdf(72, mu, sigma) - norm.cdf(68, mu, sigma)\n",
    "    percentile_90 = norm.ppf(0.9, mu, sigma)\n",
    "\n",
    "    return round(p_short, 4), round(p_medium, 4), round(percentile_90, 2)\n",
    "\n",
    "print(height_analysis())"
   ]
  },
  {
   "cell_type": "code",
   "execution_count": 10,
   "id": "f8c9eb31",
   "metadata": {},
   "outputs": [
    {
     "name": "stdout",
     "output_type": "stream",
     "text": [
      "4.0\n"
     ]
    }
   ],
   "source": [
    "def derrivative_at_point():\n",
    "    def f(x): return x**2\n",
    "    x, h = 2, 0.0001\n",
    "    derivative = (f(x+h) - f(x)) / h\n",
    "    return round(derivative, 2)\n",
    "\n",
    "print(derrivative_at_point())"
   ]
  },
  {
   "cell_type": "code",
   "execution_count": 11,
   "id": "9782e83a",
   "metadata": {},
   "outputs": [
    {
     "name": "stdout",
     "output_type": "stream",
     "text": [
      "(14, 0.6)\n"
     ]
    }
   ],
   "source": [
    "def quadratic_gradient():\n",
    "    def f(x): return 3*x**2 + 2*x + 1\n",
    "    def df(x): return 6*x + 2  # Derivative\n",
    "    \n",
    "    gradient_at_2 = df(2)\n",
    "    new_x = 2 - 0.1 * gradient_at_2  # Gradient descent step\n",
    "    \n",
    "    return gradient_at_2, round(new_x, 2)\n",
    "\n",
    "print(quadratic_gradient())  # (14, 0.6)"
   ]
  },
  {
   "cell_type": "code",
   "execution_count": 12,
   "id": "2bcabb87",
   "metadata": {},
   "outputs": [
    {
     "name": "stdout",
     "output_type": "stream",
     "text": [
      "(28.0, 27.0)\n"
     ]
    }
   ],
   "source": [
    "def partial_derivatives():\n",
    "    def f(x,y): return 3*x**2*y + 2*x*y**3\n",
    "    h = 0.0001\n",
    "    \n",
    "    df_dx = (f(1+h,2) - f(1,2)) / h\n",
    "    \n",
    "    df_dy = (f(1,2+h) - f(1,2)) / h\n",
    "    \n",
    "    return round(df_dx, 2), round(df_dy, 2)\n",
    "\n",
    "print(partial_derivatives())"
   ]
  },
  {
   "cell_type": "code",
   "execution_count": 13,
   "id": "24900636",
   "metadata": {},
   "outputs": [
    {
     "name": "stdout",
     "output_type": "stream",
     "text": [
      "0.0833\n"
     ]
    }
   ],
   "source": [
    "def linear_regression_cost():\n",
    "    x = [1,2,3]\n",
    "    y_actual = [2,4,5]\n",
    "    w, b = 1.5, 0.5\n",
    "    \n",
    "    squared_errors = []\n",
    "    for xi, yi in zip(x, y_actual):\n",
    "        y_pred = w*xi + b\n",
    "        squared_errors.append((yi - y_pred)**2)\n",
    "    \n",
    "    mse = sum(squared_errors)/len(x)\n",
    "    return round(mse, 4)\n",
    "\n",
    "print(linear_regression_cost())"
   ]
  },
  {
   "cell_type": "code",
   "execution_count": 14,
   "id": "335a2e70",
   "metadata": {},
   "outputs": [
    {
     "name": "stdout",
     "output_type": "stream",
     "text": [
      "(-1.48, 1.75)\n"
     ]
    }
   ],
   "source": [
    "def simple_gradient_descent():\n",
    "    def f(w): return w**2 + 3*w + 4\n",
    "    def df(w): return 2*w + 3  \n",
    "\n",
    "    w, eta = 0, 0.1\n",
    "    for _ in range(20):\n",
    "        grad = df(w)\n",
    "        w -= eta * grad\n",
    "    \n",
    "    return round(w, 2), round(f(w), 2)\n",
    "\n",
    "print(simple_gradient_descent())"
   ]
  },
  {
   "cell_type": "code",
   "execution_count": null,
   "id": "73190438",
   "metadata": {},
   "outputs": [],
   "source": []
  }
 ],
 "metadata": {
  "kernelspec": {
   "display_name": "Python 3",
   "language": "python",
   "name": "python3"
  },
  "language_info": {
   "codemirror_mode": {
    "name": "ipython",
    "version": 3
   },
   "file_extension": ".py",
   "mimetype": "text/x-python",
   "name": "python",
   "nbconvert_exporter": "python",
   "pygments_lexer": "ipython3",
   "version": "3.13.3"
  }
 },
 "nbformat": 4,
 "nbformat_minor": 5
}
